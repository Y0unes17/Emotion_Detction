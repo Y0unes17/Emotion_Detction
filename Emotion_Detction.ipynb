{
 "cells": [
  {
   "cell_type": "code",
   "execution_count": 1,
   "metadata": {},
   "outputs": [
    {
     "name": "stderr",
     "output_type": "stream",
     "text": [
      "Using Theano backend.\n",
      "C:\\Users\\Younes\\Anaconda3\\envs\\py\\lib\\site-packages\\keras\\utils\\conv_utils.py:82: FutureWarning: Using a non-tuple sequence for multidimensional indexing is deprecated; use `arr[tuple(seq)]` instead of `arr[seq]`. In the future this will be interpreted as an array index, `arr[np.array(seq)]`, which will result either in an error or a different result.\n",
      "  return np.copy(kernel[slices])\n"
     ]
    }
   ],
   "source": [
    "\n",
    "from PIL import Image \n",
    "from keras.applications.mobilenet import preprocess_input\n",
    "import base64 \n",
    "from io import BytesIO \n",
    "import json \n",
    "import random \n",
    "import cv2 \n",
    "from keras.models import load_model \n",
    "import numpy as np \n",
    "threshold = 0.70  \n",
    "font = cv2.FONT_HERSHEY_SIMPLEX\n",
    "from keras.preprocessing import image \n",
    "\n",
    "\n",
    "model = load_model('Emotion.h5',compile=False)\n",
    "face_cascade = cv2.CascadeClassifier('haarcascade_frontalface_default.xml') \n",
    "#haarcascade_frontalface_default/haarcascade_frontalface_alt_tree\n",
    "\n"
   ]
  },
  {
   "cell_type": "code",
   "execution_count": 2,
   "metadata": {},
   "outputs": [],
   "source": [
    "def face_extractor(img):\n",
    "    faces = face_cascade.detectMultiScale(img, 1.3, 5) \n",
    "    if faces is (): \n",
    "        return None \n",
    "\n",
    "    for (x,y,w,h) in faces: \n",
    "        #cv2.rectangle(img,(x,y),(x+w,y+h),(0,255,255),2)\n",
    "        cropped_face = img[y:y+h, x:x+w] \n",
    "     \n",
    "    return cropped_face "
   ]
  },
  {
   "cell_type": "code",
   "execution_count": 6,
   "metadata": {
    "scrolled": true
   },
   "outputs": [],
   "source": [
    "#class = ['Angry','Disgust','Fear','Happy','Neutral','Sad','Surprise']\n",
    "\n",
    "\n",
    "video_capture = cv2.VideoCapture(0) \n",
    "while True: \n",
    "    _, frame = video_capture.read() \n",
    "   # frameg=cv2.cvtColor(frame,cv2.COLOR_BGR2GRAY)\n",
    "    face=face_extractor(frame) \n",
    "    if type(face) is np.ndarray: \n",
    "        face = cv2.resize(face, (224, 224)) \n",
    "        im = Image.fromarray(face,'RGB') \n",
    "        img_array = np.array(im) \n",
    "        img_array_expanded_dims = np.expand_dims(img_array, axis=0) \n",
    "        img_array = preprocess_input(img_array_expanded_dims)\n",
    "       \n",
    "        pred = model.predict(img_array)\n",
    "        prediction = np.argmax(pred[0]) \n",
    "        #label=class_labels[pred.argmax()]\n",
    "        \n",
    "        \n",
    "        probabilityValue =np.amax(pred)\n",
    "        if probabilityValue > threshold:\n",
    "            \n",
    "            if prediction==0:\n",
    "                name='Angry :'\n",
    "            elif prediction==3:\n",
    "                name='Happy :'\n",
    "            elif prediction==4:\n",
    "                name='Neutral :'\n",
    "            elif prediction==6:\n",
    "                name='Surprise :'    \n",
    "            #cv2.putText(frame,name, (50, 50), cv2.FONT_HERSHEY_COMPLEX, 1, (0,0,255), 2) \n",
    "            #cv2.putText(frame, name+str(round(probabilityValue*100,2) )+\"%\", (50, 75), font, 0.75, (0, 0, 255), 2, cv2.LINE_AA)\n",
    "            text = \"{}: {:.2f}%\".format(name, probabilityValue * 100)\n",
    "            faces = face_cascade.detectMultiScale(frame, 1.3, 5) \n",
    "            for (x,y,w,h) in faces: \n",
    "                cv2.rectangle(frame,(x,y),(x+w,y+h),(255,0,0),2)\n",
    "                #cropped_face = img[y:y+h, x:x+w] \n",
    "            \n",
    "                cv2.putText(frame, text, ((x,y-5)),\n",
    "                cv2.FONT_HERSHEY_SIMPLEX, 0.75, (0,152, 169), 2)\n",
    "    else: \n",
    "        cv2.putText(frame,'No Face Found',(20,60),cv2.FONT_HERSHEY_SIMPLEX,2,(0,255,0),3) \n",
    "    cv2.imshow('Video', frame) \n",
    "    if cv2.waitKey(1) & 0xFF == ord('q'): \n",
    "        break \n",
    "video_capture.release() \n",
    "cv2.destroyAllWindows() "
   ]
  },
  {
   "cell_type": "code",
   "execution_count": null,
   "metadata": {},
   "outputs": [],
   "source": []
  }
 ],
 "metadata": {
  "kernelspec": {
   "display_name": "Python 3",
   "language": "python",
   "name": "python3"
  },
  "language_info": {
   "codemirror_mode": {
    "name": "ipython",
    "version": 3
   },
   "file_extension": ".py",
   "mimetype": "text/x-python",
   "name": "python",
   "nbconvert_exporter": "python",
   "pygments_lexer": "ipython3",
   "version": "3.7.1"
  }
 },
 "nbformat": 4,
 "nbformat_minor": 2
}
